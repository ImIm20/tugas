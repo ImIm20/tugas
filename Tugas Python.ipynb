{
 "cells": [
  {
   "cell_type": "markdown",
   "id": "0284df0d",
   "metadata": {},
   "source": [
    "# Soal 1\n",
    "S=12. Ketika S>18, maka cetak 12,13,14,15 dan 'selesai"
   ]
  },
  {
   "cell_type": "code",
   "execution_count": 11,
   "id": "fd898191",
   "metadata": {},
   "outputs": [
    {
     "name": "stdout",
     "output_type": "stream",
     "text": [
      "12\n",
      "13\n",
      "14\n",
      "15\n",
      "selesai 19\n"
     ]
    }
   ],
   "source": [
    "s = 12\n",
    "\n",
    "while s<=19:\n",
    "    if s<=15:\n",
    "        print(s)\n",
    "    elif s>18:\n",
    "        print('selesai',s)\n",
    "    s+=1\n",
    "    \n"
   ]
  },
  {
   "cell_type": "markdown",
   "id": "495ccda7",
   "metadata": {},
   "source": [
    "# Soal 2\n",
    "dari list \n",
    "- sistem = [\"saya\",\"pergi\",\"ke\",\"LPPI\",\"kemang\"]\n",
    "- engineer = [\"tidak\",\"jalan\",\"karena\",\"banjir\"]\n",
    "\n",
    "tampilkan:\\\n",
    "&nbsp;&nbsp;&nbsp;&nbsp; saya\\\n",
    "&nbsp;&nbsp;&nbsp;&nbsp; tidak\\\n",
    "&nbsp;&nbsp;&nbsp;&nbsp; pergi\\\n",
    "&nbsp;&nbsp;&nbsp;&nbsp; karena banjir\n",
    "    \n",
    "⁠tampilkan:\\\n",
    "&nbsp;&nbsp;&nbsp;&nbsp; saya\\\n",
    "&nbsp;&nbsp;&nbsp;&nbsp; tetap\\\n",
    "&nbsp;&nbsp;&nbsp;&nbsp; pergi\\\n",
    "&nbsp;&nbsp;&nbsp;&nbsp; karena banjir\n"
   ]
  },
  {
   "cell_type": "code",
   "execution_count": 6,
   "id": "14f9122d",
   "metadata": {},
   "outputs": [
    {
     "name": "stdout",
     "output_type": "stream",
     "text": [
      "saya \n",
      " tidak \n",
      " pergi \n",
      " karena banjir\n"
     ]
    }
   ],
   "source": [
    "sistem = [\"saya\",\"pergi\",\"ke\",\"LPPI\",\"kemang\"]\n",
    "engineer = [\"tidak\",\"jalan\",\"karena\",\"banjir\"]\n",
    "\n",
    "print(sistem[0], \"\\n\", engineer[0], \"\\n\",\n",
    "      sistem[1], \"\\n\", engineer[-2], engineer[-1])"
   ]
  },
  {
   "cell_type": "code",
   "execution_count": 7,
   "id": "6dcb7358",
   "metadata": {},
   "outputs": [
    {
     "name": "stdout",
     "output_type": "stream",
     "text": [
      "saya \n",
      " tetap \n",
      " pergi \n",
      " karena banjir\n"
     ]
    }
   ],
   "source": [
    "engineer[0] = \"tetap\"\n",
    "print(sistem[0], \"\\n\", engineer[0], \"\\n\",\n",
    "      sistem[1], \"\\n\", engineer[-2], engineer[-1])"
   ]
  },
  {
   "cell_type": "markdown",
   "id": "1b77e14c",
   "metadata": {},
   "source": [
    "# Soal 3\n",
    " berdasarkan tabel nilai yg ada di excel, tampilkan jika nilai A <= 60 atau nilai B <=60, maka dinyatakan gagal\n"
   ]
  },
  {
   "cell_type": "code",
   "execution_count": 8,
   "id": "aa87d8b8",
   "metadata": {},
   "outputs": [
    {
     "name": "stdout",
     "output_type": "stream",
     "text": [
      "nama1, nilaiA= 80, nilaiA= 70, total= 150, status: lulus\n",
      "nama2, nilaiA= 55, nilaiA= 70, total= 125, status: tidak lulus\n",
      "nama3, nilaiA= 80, nilaiA= 90, total= 170, status: lulus\n",
      "nama4, nilaiA= 75, nilaiA= 60, total= 135, status: tidak lulus\n",
      "nama5, nilaiA= 90, nilaiA= 70, total= 160, status: lulus\n"
     ]
    }
   ],
   "source": [
    "nama = ['nama1','nama2','nama3','nama4','nama5']\n",
    "nilaiA = [80,55,80,75,90]\n",
    "nilaiB = [70,70,90,60,70]\n",
    "\n",
    "for i in range(len(nama)):\n",
    "    if (nilaiA[i]<=60) or nilaiB[i]<=60:\n",
    "        print(f\"{nama[i]}, nilaiA= {nilaiA[i]}, nilaiA= {nilaiB[i]}, total= {nilaiA[i]+nilaiB[i]}, status: tidak lulus\")\n",
    "    else:\n",
    "        print(f\"{nama[i]}, nilaiA= {nilaiA[i]}, nilaiA= {nilaiB[i]}, total= {nilaiA[i]+nilaiB[i]}, status: lulus\")"
   ]
  },
  {
   "cell_type": "markdown",
   "id": "957b5c3b",
   "metadata": {},
   "source": [
    "# Soal 4\n",
    "⁠buat inputan nama, nilai UTS, nilai UAS, terus bandingkan nilainya. jika nilai uts <=60 atau nilai uas<=60 atau nilai total(uts+uas)<=125 tampilkan gagal/tidak lulus. selain itu tampilkan lulus\n"
   ]
  },
  {
   "cell_type": "code",
   "execution_count": 9,
   "id": "305cf541",
   "metadata": {},
   "outputs": [
    {
     "name": "stdout",
     "output_type": "stream",
     "text": [
      "nama: imroatus\n",
      "nilai UTS: 80\n",
      "nilai UAS: 60\n",
      "\n",
      "\n",
      "nama\t: imroatus \n",
      "uts\t: 80 \n",
      "uas\t: 60 \n",
      "total\t: 140\n",
      "Maaf anda Gagal\n"
     ]
    }
   ],
   "source": [
    "nama = input('nama: ')\n",
    "uts = int(input('nilai UTS: '))\n",
    "uas = int(input('nilai UAS: '))\n",
    "\n",
    "print(f\"\\n\\nnama\\t: {nama} \\nuts\\t: {uts} \\nuas\\t: {uas} \\ntotal\\t: {uts+uas}\")\n",
    "\n",
    "if uts <= 60 or uas <= 60 or (uts+uas)<=125:\n",
    "    print('Maaf anda Gagal')\n",
    "else :\n",
    "    print('Selamat anda Lulus')\n"
   ]
  },
  {
   "cell_type": "markdown",
   "id": "78c99659",
   "metadata": {},
   "source": [
    "# Soal 5\n",
    "konversi huruf dari kata BaT, masing2 huruf konversi ke biner, oktal, desimal dan heksadesimal"
   ]
  },
  {
   "cell_type": "code",
   "execution_count": 10,
   "id": "e9f79bff",
   "metadata": {},
   "outputs": [
    {
     "name": "stdout",
     "output_type": "stream",
     "text": [
      "masukkan kata: BaT\n",
      "kata\t=  BaT\n",
      "\n",
      "huruf\t=  B\n",
      "desimal\t=  66\n",
      "biner\t=  1000010\n",
      "oktal\t=  102\n",
      "hexa\t=  42\n",
      "\n",
      "huruf\t=  a\n",
      "desimal\t=  97\n",
      "biner\t=  1100001\n",
      "oktal\t=  141\n",
      "hexa\t=  61\n",
      "\n",
      "huruf\t=  T\n",
      "desimal\t=  84\n",
      "biner\t=  1010100\n",
      "oktal\t=  124\n",
      "hexa\t=  54\n"
     ]
    }
   ],
   "source": [
    "kata = input('masukkan kata: ')\n",
    "#kata = 'BaT'\n",
    "#huruf = [str(huruf) for huruf in kata]\n",
    "\n",
    "print('kata\\t= ', kata)\n",
    "#print('huruf= ', huruf)\n",
    "\n",
    "\n",
    "for i in range(len(kata)):\n",
    "    print('\\nhuruf\\t= ', kata[i])\n",
    "    desimal1 = ord(kata[i])\n",
    "    print('desimal\\t= ', desimal1)\n",
    "    \n",
    "    biner = ''\n",
    "    oktal = ''\n",
    "    hexa = ''\n",
    "\n",
    "    #biner\n",
    "    desimal=desimal1\n",
    "    while desimal > 0:\n",
    "        sisa = desimal % 2\n",
    "        biner = str(sisa) + biner\n",
    "        desimal //= 2\n",
    "    print('biner\\t= ', biner)\n",
    "\n",
    "    #oktal\n",
    "    desimal=desimal1\n",
    "    while desimal > 0:\n",
    "        sisa = desimal % 8\n",
    "        oktal = str(sisa) + oktal\n",
    "        desimal //= 8\n",
    "    print('oktal\\t= ', oktal)\n",
    "\n",
    "    #hexa\n",
    "    desimal=desimal1\n",
    "    hex_chars = \"0123456789ABCDEF\"\n",
    "    while desimal > 0:\n",
    "         sisa = desimal % 16\n",
    "         hexa = hex_chars[sisa] + hexa\n",
    "         desimal //= 16\n",
    "    print('hexa\\t= ', hexa)\n",
    "\n"
   ]
  },
  {
   "cell_type": "markdown",
   "id": "1c02079b",
   "metadata": {},
   "source": [
    "# Day 5"
   ]
  },
  {
   "cell_type": "code",
   "execution_count": 13,
   "id": "49c174cc",
   "metadata": {},
   "outputs": [],
   "source": [
    "f = open('hi.txt')"
   ]
  },
  {
   "cell_type": "code",
   "execution_count": 14,
   "id": "57659a00",
   "metadata": {},
   "outputs": [
    {
     "name": "stdout",
     "output_type": "stream",
     "text": [
      "['yyy']\n"
     ]
    }
   ],
   "source": [
    "#harus beda line dengan close\n",
    "print(f.readlines())"
   ]
  },
  {
   "cell_type": "code",
   "execution_count": 15,
   "id": "a96318db",
   "metadata": {},
   "outputs": [],
   "source": [
    "f.close()"
   ]
  },
  {
   "cell_type": "markdown",
   "id": "91478c67",
   "metadata": {},
   "source": [
    "### adding new line in script"
   ]
  },
  {
   "cell_type": "code",
   "execution_count": 23,
   "id": "9920175e",
   "metadata": {},
   "outputs": [],
   "source": [
    "f = open('hi.txt', 'a') #a append, w write (menimpa yg sebelumnya)\n",
    "f.write(' hii, how r u?')\n",
    "f.close()"
   ]
  },
  {
   "cell_type": "code",
   "execution_count": 25,
   "id": "98f7530e",
   "metadata": {},
   "outputs": [
    {
     "data": {
      "text/plain": [
       "['yyy hii, how r u?']"
      ]
     },
     "execution_count": 25,
     "metadata": {},
     "output_type": "execute_result"
    }
   ],
   "source": [
    "f = open('hi.txt')\n",
    "f.readlines()"
   ]
  },
  {
   "cell_type": "markdown",
   "id": "1e5dbeb7",
   "metadata": {},
   "source": [
    "### menimpa file sebelumnya"
   ]
  },
  {
   "cell_type": "code",
   "execution_count": 94,
   "id": "083e5c17",
   "metadata": {},
   "outputs": [],
   "source": [
    "f = open('hi.txt', 'w') #w write (menimpa yg sebelumnya)\n",
    "f.write('Pelatihan kita di LPPI Kemang dengan waktu yang telah ditentukan')\n",
    "f.close() "
   ]
  },
  {
   "cell_type": "code",
   "execution_count": 95,
   "id": "97e05c2e",
   "metadata": {},
   "outputs": [
    {
     "data": {
      "text/plain": [
       "['Pelatihan kita di LPPI Kemang dengan waktu yang telah ditentukan']"
      ]
     },
     "execution_count": 95,
     "metadata": {},
     "output_type": "execute_result"
    }
   ],
   "source": [
    "f = open('hi.txt')\n",
    "f.readlines()"
   ]
  },
  {
   "cell_type": "markdown",
   "id": "93b5d098",
   "metadata": {},
   "source": [
    "### adding text "
   ]
  },
  {
   "cell_type": "code",
   "execution_count": 87,
   "id": "ce3669f4",
   "metadata": {},
   "outputs": [],
   "source": [
    "import re\n",
    "def modify(filepath, from_):\n",
    "    with open('hi.txt') as f:\n",
    "        lines = [line.rstrip('\\n') for line in f]\n",
    "    lines = lines[0].split()\n",
    "    awal = lines[:from_]\n",
    "    akhir = lines[from_:]\n",
    "    \n",
    "    f = open('hi.txt', 'w') #w write (menimpa yg sebelumnya)\n",
    "    f.write(' '.join([str(elem) for elem in awal]) + ' dari pagi sampai sore ' \n",
    "            + ' '.join([str(elem) for elem in akhir]))\n",
    "    f.close()"
   ]
  },
  {
   "cell_type": "code",
   "execution_count": 88,
   "id": "935e87f6",
   "metadata": {},
   "outputs": [],
   "source": [
    "modify('hi.txt', 5)"
   ]
  },
  {
   "cell_type": "code",
   "execution_count": 89,
   "id": "566434c8",
   "metadata": {},
   "outputs": [
    {
     "data": {
      "text/plain": [
       "['Pelatihan kita di LPPI Kemang dari pagi sampai sore dengan waktu yang telah ditentukan']"
      ]
     },
     "execution_count": 89,
     "metadata": {},
     "output_type": "execute_result"
    }
   ],
   "source": [
    "f = open('hi.txt')\n",
    "f.readlines()"
   ]
  },
  {
   "cell_type": "markdown",
   "id": "5b5ff212",
   "metadata": {},
   "source": [
    "### soal"
   ]
  },
  {
   "cell_type": "code",
   "execution_count": 170,
   "id": "7eeef4fa",
   "metadata": {},
   "outputs": [],
   "source": [
    "def perhitungan(kata):\n",
    "    with open('readme.txt', 'x') as f:\n",
    "        f.write(f'hasil perhitungan desimal, oktal, biner, dan hexa dari huruf {kata} adalah \\n')\n",
    "    #f = open('hasil.txt', x)\n",
    "    result = ''\n",
    "    for i in range(len(kata)):\n",
    "        desimal1 = ord(kata[i])\n",
    "        biner = ''\n",
    "        oktal = ''\n",
    "        hexa = ''\n",
    "\n",
    "        #biner\n",
    "        desimal=desimal1\n",
    "        while desimal > 0:\n",
    "            sisa = desimal % 2\n",
    "            biner = str(sisa) + biner\n",
    "            desimal //= 2\n",
    "\n",
    "        #oktal\n",
    "        desimal=desimal1\n",
    "        while desimal > 0:\n",
    "            sisa = desimal % 8\n",
    "            oktal = str(sisa) + oktal\n",
    "            desimal //= 8\n",
    "        \n",
    "\n",
    "        #hexa\n",
    "        desimal=desimal1\n",
    "        hex_chars = \"0123456789ABCDEF\"\n",
    "        while desimal > 0:\n",
    "             sisa = desimal % 16\n",
    "             hexa = hex_chars[sisa] + hexa\n",
    "             desimal //= 16\n",
    "        \n",
    "        result = f\"{kata[i]} = {desimal1}, {biner}, {oktal}, {hexa} \\n\"\n",
    "        \n",
    "        f = open('readme.txt', 'a')\n",
    "        f.write(result)\n",
    "        f.close()\n",
    "\n"
   ]
  },
  {
   "cell_type": "code",
   "execution_count": 171,
   "id": "8271aebf",
   "metadata": {},
   "outputs": [],
   "source": [
    "perhitungan('kkyyy')"
   ]
  },
  {
   "cell_type": "code",
   "execution_count": 137,
   "id": "0fbcc2c9",
   "metadata": {},
   "outputs": [
    {
     "data": {
      "text/plain": [
       "2"
      ]
     },
     "execution_count": 137,
     "metadata": {},
     "output_type": "execute_result"
    }
   ],
   "source": [
    "len('kk')"
   ]
  },
  {
   "cell_type": "code",
   "execution_count": 173,
   "id": "f8d2d7df",
   "metadata": {},
   "outputs": [
    {
     "name": "stdout",
     "output_type": "stream",
     "text": [
      "Nama: imroatus\n",
      "Ruang: 1\n",
      "Skema: 1\n"
     ]
    }
   ],
   "source": [
    "nama = input('Nama: ')\n",
    "ruang = input('Ruang: ')\n",
    "skema = input('Skema: ')\n",
    "perhitungan(nama)\n",
    "    "
   ]
  },
  {
   "cell_type": "markdown",
   "id": "9a3be1c6",
   "metadata": {},
   "source": [
    "# SQL"
   ]
  },
  {
   "cell_type": "code",
   "execution_count": 176,
   "id": "313bf336",
   "metadata": {},
   "outputs": [
    {
     "name": "stdout",
     "output_type": "stream",
     "text": [
      "Collecting mysql-connector-python\n",
      "  Downloading mysql_connector_python-8.3.0-cp310-cp310-macosx_13_0_arm64.whl (15.3 MB)\n",
      "\u001b[2K     \u001b[90m━━━━━━━━━━━━━━━━━━━━━━━━━━━━━━━━━━━━━━━\u001b[0m \u001b[32m15.3/15.3 MB\u001b[0m \u001b[31m897.6 kB/s\u001b[0m eta \u001b[36m0:00:00\u001b[0m00:01\u001b[0m00:01\u001b[0m\n",
      "\u001b[?25hInstalling collected packages: mysql-connector-python\n",
      "Successfully installed mysql-connector-python-8.3.0\n",
      "Note: you may need to restart the kernel to use updated packages.\n"
     ]
    }
   ],
   "source": [
    "pip install mysql-connector-python"
   ]
  },
  {
   "cell_type": "code",
   "execution_count": 178,
   "id": "c6d8cb67",
   "metadata": {},
   "outputs": [],
   "source": [
    "import mysql.connector"
   ]
  },
  {
   "cell_type": "code",
   "execution_count": 252,
   "id": "487c8cc5",
   "metadata": {},
   "outputs": [],
   "source": [
    "mydb = mysql.connector.connect(host=\"localhost\",\n",
    "                               user=\"root\", \n",
    "                               password=\"\", \n",
    "                               database=\"sakila\"\n",
    ")\n",
    "mycursor = mydb.cursor()"
   ]
  },
  {
   "cell_type": "code",
   "execution_count": 195,
   "id": "9fc2186a",
   "metadata": {},
   "outputs": [],
   "source": []
  },
  {
   "cell_type": "code",
   "execution_count": 182,
   "id": "da59958a",
   "metadata": {},
   "outputs": [
    {
     "name": "stdout",
     "output_type": "stream",
     "text": [
      "[(1, 'PENELOPE', 'GUINESS', datetime.datetime(2006, 2, 15, 4, 34, 33)), (2, 'NICK', 'WAHLBERG', datetime.datetime(2006, 2, 15, 4, 34, 33)), (3, 'ED', 'CHASE', datetime.datetime(2006, 2, 15, 4, 34, 33)), (4, 'JENNIFER', 'DAVIS', datetime.datetime(2006, 2, 15, 4, 34, 33)), (5, 'JOHNNY', 'LOLLOBRIGIDA', datetime.datetime(2006, 2, 15, 4, 34, 33)), (6, 'BETTE', 'NICHOLSON', datetime.datetime(2006, 2, 15, 4, 34, 33)), (7, 'GRACE', 'MOSTEL', datetime.datetime(2006, 2, 15, 4, 34, 33)), (8, 'MATTHEW', 'JOHANSSON', datetime.datetime(2006, 2, 15, 4, 34, 33)), (9, 'JOE', 'SWANK', datetime.datetime(2006, 2, 15, 4, 34, 33)), (10, 'CHRISTIAN', 'GABLE', datetime.datetime(2006, 2, 15, 4, 34, 33)), (11, 'ZERO', 'CAGE', datetime.datetime(2006, 2, 15, 4, 34, 33)), (12, 'KARL', 'BERRY', datetime.datetime(2006, 2, 15, 4, 34, 33)), (13, 'UMA', 'WOOD', datetime.datetime(2006, 2, 15, 4, 34, 33)), (14, 'VIVIEN', 'BERGEN', datetime.datetime(2006, 2, 15, 4, 34, 33)), (15, 'CUBA', 'OLIVIER', datetime.datetime(2006, 2, 15, 4, 34, 33)), (16, 'FRED', 'COSTNER', datetime.datetime(2006, 2, 15, 4, 34, 33)), (17, 'HELEN', 'VOIGHT', datetime.datetime(2006, 2, 15, 4, 34, 33)), (18, 'DAN', 'TORN', datetime.datetime(2006, 2, 15, 4, 34, 33)), (19, 'BOB', 'FAWCETT', datetime.datetime(2006, 2, 15, 4, 34, 33)), (20, 'LUCILLE', 'TRACY', datetime.datetime(2006, 2, 15, 4, 34, 33)), (21, 'KIRSTEN', 'PALTROW', datetime.datetime(2006, 2, 15, 4, 34, 33)), (22, 'ELVIS', 'MARX', datetime.datetime(2006, 2, 15, 4, 34, 33)), (23, 'SANDRA', 'KILMER', datetime.datetime(2006, 2, 15, 4, 34, 33)), (24, 'CAMERON', 'STREEP', datetime.datetime(2006, 2, 15, 4, 34, 33)), (25, 'KEVIN', 'BLOOM', datetime.datetime(2006, 2, 15, 4, 34, 33)), (26, 'RIP', 'CRAWFORD', datetime.datetime(2006, 2, 15, 4, 34, 33)), (27, 'JULIA', 'MCQUEEN', datetime.datetime(2006, 2, 15, 4, 34, 33)), (28, 'WOODY', 'HOFFMAN', datetime.datetime(2006, 2, 15, 4, 34, 33)), (29, 'ALEC', 'WAYNE', datetime.datetime(2006, 2, 15, 4, 34, 33)), (30, 'SANDRA', 'PECK', datetime.datetime(2006, 2, 15, 4, 34, 33)), (31, 'SISSY', 'SOBIESKI', datetime.datetime(2006, 2, 15, 4, 34, 33)), (32, 'TIM', 'HACKMAN', datetime.datetime(2006, 2, 15, 4, 34, 33)), (33, 'MILLA', 'PECK', datetime.datetime(2006, 2, 15, 4, 34, 33)), (34, 'AUDREY', 'OLIVIER', datetime.datetime(2006, 2, 15, 4, 34, 33)), (35, 'JUDY', 'DEAN', datetime.datetime(2006, 2, 15, 4, 34, 33)), (36, 'BURT', 'DUKAKIS', datetime.datetime(2006, 2, 15, 4, 34, 33)), (37, 'VAL', 'BOLGER', datetime.datetime(2006, 2, 15, 4, 34, 33)), (38, 'TOM', 'MCKELLEN', datetime.datetime(2006, 2, 15, 4, 34, 33)), (39, 'GOLDIE', 'BRODY', datetime.datetime(2006, 2, 15, 4, 34, 33)), (40, 'JOHNNY', 'CAGE', datetime.datetime(2006, 2, 15, 4, 34, 33)), (41, 'JODIE', 'DEGENERES', datetime.datetime(2006, 2, 15, 4, 34, 33)), (42, 'TOM', 'MIRANDA', datetime.datetime(2006, 2, 15, 4, 34, 33)), (43, 'KIRK', 'JOVOVICH', datetime.datetime(2006, 2, 15, 4, 34, 33)), (44, 'NICK', 'STALLONE', datetime.datetime(2006, 2, 15, 4, 34, 33)), (45, 'REESE', 'KILMER', datetime.datetime(2006, 2, 15, 4, 34, 33)), (46, 'PARKER', 'GOLDBERG', datetime.datetime(2006, 2, 15, 4, 34, 33)), (47, 'JULIA', 'BARRYMORE', datetime.datetime(2006, 2, 15, 4, 34, 33)), (48, 'FRANCES', 'DAY-LEWIS', datetime.datetime(2006, 2, 15, 4, 34, 33)), (49, 'ANNE', 'CRONYN', datetime.datetime(2006, 2, 15, 4, 34, 33)), (50, 'NATALIE', 'HOPKINS', datetime.datetime(2006, 2, 15, 4, 34, 33)), (51, 'GARY', 'PHOENIX', datetime.datetime(2006, 2, 15, 4, 34, 33)), (52, 'CARMEN', 'HUNT', datetime.datetime(2006, 2, 15, 4, 34, 33)), (53, 'MENA', 'TEMPLE', datetime.datetime(2006, 2, 15, 4, 34, 33)), (54, 'PENELOPE', 'PINKETT', datetime.datetime(2006, 2, 15, 4, 34, 33)), (55, 'FAY', 'KILMER', datetime.datetime(2006, 2, 15, 4, 34, 33)), (56, 'DAN', 'HARRIS', datetime.datetime(2006, 2, 15, 4, 34, 33)), (57, 'JUDE', 'CRUISE', datetime.datetime(2006, 2, 15, 4, 34, 33)), (58, 'CHRISTIAN', 'AKROYD', datetime.datetime(2006, 2, 15, 4, 34, 33)), (59, 'DUSTIN', 'TAUTOU', datetime.datetime(2006, 2, 15, 4, 34, 33)), (60, 'HENRY', 'BERRY', datetime.datetime(2006, 2, 15, 4, 34, 33)), (61, 'CHRISTIAN', 'NEESON', datetime.datetime(2006, 2, 15, 4, 34, 33)), (62, 'JAYNE', 'NEESON', datetime.datetime(2006, 2, 15, 4, 34, 33)), (63, 'CAMERON', 'WRAY', datetime.datetime(2006, 2, 15, 4, 34, 33)), (64, 'RAY', 'JOHANSSON', datetime.datetime(2006, 2, 15, 4, 34, 33)), (65, 'ANGELA', 'HUDSON', datetime.datetime(2006, 2, 15, 4, 34, 33)), (66, 'MARY', 'TANDY', datetime.datetime(2006, 2, 15, 4, 34, 33)), (67, 'JESSICA', 'BAILEY', datetime.datetime(2006, 2, 15, 4, 34, 33)), (68, 'RIP', 'WINSLET', datetime.datetime(2006, 2, 15, 4, 34, 33)), (69, 'KENNETH', 'PALTROW', datetime.datetime(2006, 2, 15, 4, 34, 33)), (70, 'MICHELLE', 'MCCONAUGHEY', datetime.datetime(2006, 2, 15, 4, 34, 33)), (71, 'ADAM', 'GRANT', datetime.datetime(2006, 2, 15, 4, 34, 33)), (72, 'SEAN', 'WILLIAMS', datetime.datetime(2006, 2, 15, 4, 34, 33)), (73, 'GARY', 'PENN', datetime.datetime(2006, 2, 15, 4, 34, 33)), (74, 'MILLA', 'KEITEL', datetime.datetime(2006, 2, 15, 4, 34, 33)), (75, 'BURT', 'POSEY', datetime.datetime(2006, 2, 15, 4, 34, 33)), (76, 'ANGELINA', 'ASTAIRE', datetime.datetime(2006, 2, 15, 4, 34, 33)), (77, 'CARY', 'MCCONAUGHEY', datetime.datetime(2006, 2, 15, 4, 34, 33)), (78, 'GROUCHO', 'SINATRA', datetime.datetime(2006, 2, 15, 4, 34, 33)), (79, 'MAE', 'HOFFMAN', datetime.datetime(2006, 2, 15, 4, 34, 33)), (80, 'RALPH', 'CRUZ', datetime.datetime(2006, 2, 15, 4, 34, 33)), (81, 'SCARLETT', 'DAMON', datetime.datetime(2006, 2, 15, 4, 34, 33)), (82, 'WOODY', 'JOLIE', datetime.datetime(2006, 2, 15, 4, 34, 33)), (83, 'BEN', 'WILLIS', datetime.datetime(2006, 2, 15, 4, 34, 33)), (84, 'JAMES', 'PITT', datetime.datetime(2006, 2, 15, 4, 34, 33)), (85, 'MINNIE', 'ZELLWEGER', datetime.datetime(2006, 2, 15, 4, 34, 33)), (86, 'GREG', 'CHAPLIN', datetime.datetime(2006, 2, 15, 4, 34, 33)), (87, 'SPENCER', 'PECK', datetime.datetime(2006, 2, 15, 4, 34, 33)), (88, 'KENNETH', 'PESCI', datetime.datetime(2006, 2, 15, 4, 34, 33)), (89, 'CHARLIZE', 'DENCH', datetime.datetime(2006, 2, 15, 4, 34, 33)), (90, 'SEAN', 'GUINESS', datetime.datetime(2006, 2, 15, 4, 34, 33)), (91, 'CHRISTOPHER', 'BERRY', datetime.datetime(2006, 2, 15, 4, 34, 33)), (92, 'KIRSTEN', 'AKROYD', datetime.datetime(2006, 2, 15, 4, 34, 33)), (93, 'ELLEN', 'PRESLEY', datetime.datetime(2006, 2, 15, 4, 34, 33)), (94, 'KENNETH', 'TORN', datetime.datetime(2006, 2, 15, 4, 34, 33)), (95, 'DARYL', 'WAHLBERG', datetime.datetime(2006, 2, 15, 4, 34, 33)), (96, 'GENE', 'WILLIS', datetime.datetime(2006, 2, 15, 4, 34, 33)), (97, 'MEG', 'HAWKE', datetime.datetime(2006, 2, 15, 4, 34, 33)), (98, 'CHRIS', 'BRIDGES', datetime.datetime(2006, 2, 15, 4, 34, 33)), (99, 'JIM', 'MOSTEL', datetime.datetime(2006, 2, 15, 4, 34, 33)), (100, 'SPENCER', 'DEPP', datetime.datetime(2006, 2, 15, 4, 34, 33)), (101, 'SUSAN', 'DAVIS', datetime.datetime(2006, 2, 15, 4, 34, 33)), (102, 'WALTER', 'TORN', datetime.datetime(2006, 2, 15, 4, 34, 33)), (103, 'MATTHEW', 'LEIGH', datetime.datetime(2006, 2, 15, 4, 34, 33)), (104, 'PENELOPE', 'CRONYN', datetime.datetime(2006, 2, 15, 4, 34, 33)), (105, 'SIDNEY', 'CROWE', datetime.datetime(2006, 2, 15, 4, 34, 33)), (106, 'GROUCHO', 'DUNST', datetime.datetime(2006, 2, 15, 4, 34, 33)), (107, 'GINA', 'DEGENERES', datetime.datetime(2006, 2, 15, 4, 34, 33)), (108, 'WARREN', 'NOLTE', datetime.datetime(2006, 2, 15, 4, 34, 33)), (109, 'SYLVESTER', 'DERN', datetime.datetime(2006, 2, 15, 4, 34, 33)), (110, 'SUSAN', 'DAVIS', datetime.datetime(2006, 2, 15, 4, 34, 33)), (111, 'CAMERON', 'ZELLWEGER', datetime.datetime(2006, 2, 15, 4, 34, 33)), (112, 'RUSSELL', 'BACALL', datetime.datetime(2006, 2, 15, 4, 34, 33)), (113, 'MORGAN', 'HOPKINS', datetime.datetime(2006, 2, 15, 4, 34, 33)), (114, 'MORGAN', 'MCDORMAND', datetime.datetime(2006, 2, 15, 4, 34, 33)), (115, 'HARRISON', 'BALE', datetime.datetime(2006, 2, 15, 4, 34, 33)), (116, 'DAN', 'STREEP', datetime.datetime(2006, 2, 15, 4, 34, 33)), (117, 'RENEE', 'TRACY', datetime.datetime(2006, 2, 15, 4, 34, 33)), (118, 'CUBA', 'ALLEN', datetime.datetime(2006, 2, 15, 4, 34, 33)), (119, 'WARREN', 'JACKMAN', datetime.datetime(2006, 2, 15, 4, 34, 33)), (120, 'PENELOPE', 'MONROE', datetime.datetime(2006, 2, 15, 4, 34, 33)), (121, 'LIZA', 'BERGMAN', datetime.datetime(2006, 2, 15, 4, 34, 33)), (122, 'SALMA', 'NOLTE', datetime.datetime(2006, 2, 15, 4, 34, 33)), (123, 'JULIANNE', 'DENCH', datetime.datetime(2006, 2, 15, 4, 34, 33)), (124, 'SCARLETT', 'BENING', datetime.datetime(2006, 2, 15, 4, 34, 33)), (125, 'ALBERT', 'NOLTE', datetime.datetime(2006, 2, 15, 4, 34, 33)), (126, 'FRANCES', 'TOMEI', datetime.datetime(2006, 2, 15, 4, 34, 33)), (127, 'KEVIN', 'GARLAND', datetime.datetime(2006, 2, 15, 4, 34, 33)), (128, 'CATE', 'MCQUEEN', datetime.datetime(2006, 2, 15, 4, 34, 33)), (129, 'DARYL', 'CRAWFORD', datetime.datetime(2006, 2, 15, 4, 34, 33)), (130, 'GRETA', 'KEITEL', datetime.datetime(2006, 2, 15, 4, 34, 33)), (131, 'JANE', 'JACKMAN', datetime.datetime(2006, 2, 15, 4, 34, 33)), (132, 'ADAM', 'HOPPER', datetime.datetime(2006, 2, 15, 4, 34, 33)), (133, 'RICHARD', 'PENN', datetime.datetime(2006, 2, 15, 4, 34, 33)), (134, 'GENE', 'HOPKINS', datetime.datetime(2006, 2, 15, 4, 34, 33)), (135, 'RITA', 'REYNOLDS', datetime.datetime(2006, 2, 15, 4, 34, 33)), (136, 'ED', 'MANSFIELD', datetime.datetime(2006, 2, 15, 4, 34, 33)), (137, 'MORGAN', 'WILLIAMS', datetime.datetime(2006, 2, 15, 4, 34, 33)), (138, 'LUCILLE', 'DEE', datetime.datetime(2006, 2, 15, 4, 34, 33)), (139, 'EWAN', 'GOODING', datetime.datetime(2006, 2, 15, 4, 34, 33)), (140, 'WHOOPI', 'HURT', datetime.datetime(2006, 2, 15, 4, 34, 33)), (141, 'CATE', 'HARRIS', datetime.datetime(2006, 2, 15, 4, 34, 33)), (142, 'JADA', 'RYDER', datetime.datetime(2006, 2, 15, 4, 34, 33)), (143, 'RIVER', 'DEAN', datetime.datetime(2006, 2, 15, 4, 34, 33)), (144, 'ANGELA', 'WITHERSPOON', datetime.datetime(2006, 2, 15, 4, 34, 33)), (145, 'KIM', 'ALLEN', datetime.datetime(2006, 2, 15, 4, 34, 33)), (146, 'ALBERT', 'JOHANSSON', datetime.datetime(2006, 2, 15, 4, 34, 33)), (147, 'FAY', 'WINSLET', datetime.datetime(2006, 2, 15, 4, 34, 33)), (148, 'EMILY', 'DEE', datetime.datetime(2006, 2, 15, 4, 34, 33)), (149, 'RUSSELL', 'TEMPLE', datetime.datetime(2006, 2, 15, 4, 34, 33)), (150, 'JAYNE', 'NOLTE', datetime.datetime(2006, 2, 15, 4, 34, 33)), (151, 'GEOFFREY', 'HESTON', datetime.datetime(2006, 2, 15, 4, 34, 33)), (152, 'BEN', 'HARRIS', datetime.datetime(2006, 2, 15, 4, 34, 33)), (153, 'MINNIE', 'KILMER', datetime.datetime(2006, 2, 15, 4, 34, 33)), (154, 'MERYL', 'GIBSON', datetime.datetime(2006, 2, 15, 4, 34, 33)), (155, 'IAN', 'TANDY', datetime.datetime(2006, 2, 15, 4, 34, 33)), (156, 'FAY', 'WOOD', datetime.datetime(2006, 2, 15, 4, 34, 33)), (157, 'GRETA', 'MALDEN', datetime.datetime(2006, 2, 15, 4, 34, 33)), (158, 'VIVIEN', 'BASINGER', datetime.datetime(2006, 2, 15, 4, 34, 33)), (159, 'LAURA', 'BRODY', datetime.datetime(2006, 2, 15, 4, 34, 33)), (160, 'CHRIS', 'DEPP', datetime.datetime(2006, 2, 15, 4, 34, 33)), (161, 'HARVEY', 'HOPE', datetime.datetime(2006, 2, 15, 4, 34, 33)), (162, 'OPRAH', 'KILMER', datetime.datetime(2006, 2, 15, 4, 34, 33)), (163, 'CHRISTOPHER', 'WEST', datetime.datetime(2006, 2, 15, 4, 34, 33)), (164, 'HUMPHREY', 'WILLIS', datetime.datetime(2006, 2, 15, 4, 34, 33)), (165, 'AL', 'GARLAND', datetime.datetime(2006, 2, 15, 4, 34, 33)), (166, 'NICK', 'DEGENERES', datetime.datetime(2006, 2, 15, 4, 34, 33)), (167, 'LAURENCE', 'BULLOCK', datetime.datetime(2006, 2, 15, 4, 34, 33)), (168, 'WILL', 'WILSON', datetime.datetime(2006, 2, 15, 4, 34, 33)), (169, 'KENNETH', 'HOFFMAN', datetime.datetime(2006, 2, 15, 4, 34, 33)), (170, 'MENA', 'HOPPER', datetime.datetime(2006, 2, 15, 4, 34, 33)), (171, 'OLYMPIA', 'PFEIFFER', datetime.datetime(2006, 2, 15, 4, 34, 33)), (172, 'GROUCHO', 'WILLIAMS', datetime.datetime(2006, 2, 15, 4, 34, 33)), (173, 'ALAN', 'DREYFUSS', datetime.datetime(2006, 2, 15, 4, 34, 33)), (174, 'MICHAEL', 'BENING', datetime.datetime(2006, 2, 15, 4, 34, 33)), (175, 'WILLIAM', 'HACKMAN', datetime.datetime(2006, 2, 15, 4, 34, 33)), (176, 'JON', 'CHASE', datetime.datetime(2006, 2, 15, 4, 34, 33)), (177, 'GENE', 'MCKELLEN', datetime.datetime(2006, 2, 15, 4, 34, 33)), (178, 'LISA', 'MONROE', datetime.datetime(2006, 2, 15, 4, 34, 33)), (179, 'ED', 'GUINESS', datetime.datetime(2006, 2, 15, 4, 34, 33)), (180, 'JEFF', 'SILVERSTONE', datetime.datetime(2006, 2, 15, 4, 34, 33)), (181, 'MATTHEW', 'CARREY', datetime.datetime(2006, 2, 15, 4, 34, 33)), (182, 'DEBBIE', 'AKROYD', datetime.datetime(2006, 2, 15, 4, 34, 33)), (183, 'RUSSELL', 'CLOSE', datetime.datetime(2006, 2, 15, 4, 34, 33)), (184, 'HUMPHREY', 'GARLAND', datetime.datetime(2006, 2, 15, 4, 34, 33)), (185, 'MICHAEL', 'BOLGER', datetime.datetime(2006, 2, 15, 4, 34, 33)), (186, 'JULIA', 'ZELLWEGER', datetime.datetime(2006, 2, 15, 4, 34, 33)), (187, 'RENEE', 'BALL', datetime.datetime(2006, 2, 15, 4, 34, 33)), (188, 'ROCK', 'DUKAKIS', datetime.datetime(2006, 2, 15, 4, 34, 33)), (189, 'CUBA', 'BIRCH', datetime.datetime(2006, 2, 15, 4, 34, 33)), (190, 'AUDREY', 'BAILEY', datetime.datetime(2006, 2, 15, 4, 34, 33)), (191, 'GREGORY', 'GOODING', datetime.datetime(2006, 2, 15, 4, 34, 33)), (192, 'JOHN', 'SUVARI', datetime.datetime(2006, 2, 15, 4, 34, 33)), (193, 'BURT', 'TEMPLE', datetime.datetime(2006, 2, 15, 4, 34, 33)), (194, 'MERYL', 'ALLEN', datetime.datetime(2006, 2, 15, 4, 34, 33)), (195, 'JAYNE', 'SILVERSTONE', datetime.datetime(2006, 2, 15, 4, 34, 33)), (196, 'BELA', 'WALKEN', datetime.datetime(2006, 2, 15, 4, 34, 33)), (197, 'REESE', 'WEST', datetime.datetime(2006, 2, 15, 4, 34, 33)), (198, 'MARY', 'KEITEL', datetime.datetime(2006, 2, 15, 4, 34, 33)), (199, 'JULIA', 'FAWCETT', datetime.datetime(2006, 2, 15, 4, 34, 33)), (200, 'THORA', 'TEMPLE', datetime.datetime(2006, 2, 15, 4, 34, 33))]\n"
     ]
    }
   ],
   "source": [
    "mycursor.execute(\"select * from actor;\")\n",
    "myresult = mycursor.fetchall()\n",
    "print(myresult)"
   ]
  },
  {
   "cell_type": "code",
   "execution_count": 183,
   "id": "da658b68",
   "metadata": {},
   "outputs": [],
   "source": [
    "import pandas as pd"
   ]
  },
  {
   "cell_type": "code",
   "execution_count": 184,
   "id": "c2f64b58",
   "metadata": {
    "collapsed": true
   },
   "outputs": [
    {
     "name": "stdout",
     "output_type": "stream",
     "text": [
      "     actor_id first_name     last_name         last_update\n",
      "0           1   PENELOPE       GUINESS 2006-02-15 04:34:33\n",
      "1           2       NICK      WAHLBERG 2006-02-15 04:34:33\n",
      "2           3         ED         CHASE 2006-02-15 04:34:33\n",
      "3           4   JENNIFER         DAVIS 2006-02-15 04:34:33\n",
      "4           5     JOHNNY  LOLLOBRIGIDA 2006-02-15 04:34:33\n",
      "..        ...        ...           ...                 ...\n",
      "195       196       BELA        WALKEN 2006-02-15 04:34:33\n",
      "196       197      REESE          WEST 2006-02-15 04:34:33\n",
      "197       198       MARY        KEITEL 2006-02-15 04:34:33\n",
      "198       199      JULIA       FAWCETT 2006-02-15 04:34:33\n",
      "199       200      THORA        TEMPLE 2006-02-15 04:34:33\n",
      "\n",
      "[200 rows x 4 columns]\n"
     ]
    },
    {
     "name": "stderr",
     "output_type": "stream",
     "text": [
      "/var/folders/fx/4bnhkgc97836ksjrn6b864200000gn/T/ipykernel_1209/4177169434.py:6: UserWarning: pandas only supports SQLAlchemy connectable (engine/connection) or database string URI or sqlite3 DBAPI2 connection. Other DBAPI2 objects are not tested. Please consider using SQLAlchemy.\n",
      "  sql_query = pd.read_sql_query ('''\n"
     ]
    }
   ],
   "source": [
    "#import sqlite3\n",
    "\n",
    "\n",
    "#conn = sqlite3.connect('test_database') \n",
    "          \n",
    "sql_query = pd.read_sql_query ('''\n",
    "                               SELECT\n",
    "                               *\n",
    "                               FROM actor\n",
    "                               ''', mydb)\n",
    "\n",
    "df = pd.DataFrame(sql_query, columns = ['actor_id', 'first_name', 'last_name', 'last_update'])\n"
   ]
  },
  {
   "cell_type": "code",
   "execution_count": 185,
   "id": "7521ac5b",
   "metadata": {},
   "outputs": [
    {
     "data": {
      "text/html": [
       "<div>\n",
       "<style scoped>\n",
       "    .dataframe tbody tr th:only-of-type {\n",
       "        vertical-align: middle;\n",
       "    }\n",
       "\n",
       "    .dataframe tbody tr th {\n",
       "        vertical-align: top;\n",
       "    }\n",
       "\n",
       "    .dataframe thead th {\n",
       "        text-align: right;\n",
       "    }\n",
       "</style>\n",
       "<table border=\"1\" class=\"dataframe\">\n",
       "  <thead>\n",
       "    <tr style=\"text-align: right;\">\n",
       "      <th></th>\n",
       "      <th>actor_id</th>\n",
       "      <th>first_name</th>\n",
       "      <th>last_name</th>\n",
       "      <th>last_update</th>\n",
       "    </tr>\n",
       "  </thead>\n",
       "  <tbody>\n",
       "    <tr>\n",
       "      <th>0</th>\n",
       "      <td>1</td>\n",
       "      <td>PENELOPE</td>\n",
       "      <td>GUINESS</td>\n",
       "      <td>2006-02-15 04:34:33</td>\n",
       "    </tr>\n",
       "    <tr>\n",
       "      <th>1</th>\n",
       "      <td>2</td>\n",
       "      <td>NICK</td>\n",
       "      <td>WAHLBERG</td>\n",
       "      <td>2006-02-15 04:34:33</td>\n",
       "    </tr>\n",
       "    <tr>\n",
       "      <th>2</th>\n",
       "      <td>3</td>\n",
       "      <td>ED</td>\n",
       "      <td>CHASE</td>\n",
       "      <td>2006-02-15 04:34:33</td>\n",
       "    </tr>\n",
       "    <tr>\n",
       "      <th>3</th>\n",
       "      <td>4</td>\n",
       "      <td>JENNIFER</td>\n",
       "      <td>DAVIS</td>\n",
       "      <td>2006-02-15 04:34:33</td>\n",
       "    </tr>\n",
       "    <tr>\n",
       "      <th>4</th>\n",
       "      <td>5</td>\n",
       "      <td>JOHNNY</td>\n",
       "      <td>LOLLOBRIGIDA</td>\n",
       "      <td>2006-02-15 04:34:33</td>\n",
       "    </tr>\n",
       "    <tr>\n",
       "      <th>...</th>\n",
       "      <td>...</td>\n",
       "      <td>...</td>\n",
       "      <td>...</td>\n",
       "      <td>...</td>\n",
       "    </tr>\n",
       "    <tr>\n",
       "      <th>195</th>\n",
       "      <td>196</td>\n",
       "      <td>BELA</td>\n",
       "      <td>WALKEN</td>\n",
       "      <td>2006-02-15 04:34:33</td>\n",
       "    </tr>\n",
       "    <tr>\n",
       "      <th>196</th>\n",
       "      <td>197</td>\n",
       "      <td>REESE</td>\n",
       "      <td>WEST</td>\n",
       "      <td>2006-02-15 04:34:33</td>\n",
       "    </tr>\n",
       "    <tr>\n",
       "      <th>197</th>\n",
       "      <td>198</td>\n",
       "      <td>MARY</td>\n",
       "      <td>KEITEL</td>\n",
       "      <td>2006-02-15 04:34:33</td>\n",
       "    </tr>\n",
       "    <tr>\n",
       "      <th>198</th>\n",
       "      <td>199</td>\n",
       "      <td>JULIA</td>\n",
       "      <td>FAWCETT</td>\n",
       "      <td>2006-02-15 04:34:33</td>\n",
       "    </tr>\n",
       "    <tr>\n",
       "      <th>199</th>\n",
       "      <td>200</td>\n",
       "      <td>THORA</td>\n",
       "      <td>TEMPLE</td>\n",
       "      <td>2006-02-15 04:34:33</td>\n",
       "    </tr>\n",
       "  </tbody>\n",
       "</table>\n",
       "<p>200 rows × 4 columns</p>\n",
       "</div>"
      ],
      "text/plain": [
       "     actor_id first_name     last_name         last_update\n",
       "0           1   PENELOPE       GUINESS 2006-02-15 04:34:33\n",
       "1           2       NICK      WAHLBERG 2006-02-15 04:34:33\n",
       "2           3         ED         CHASE 2006-02-15 04:34:33\n",
       "3           4   JENNIFER         DAVIS 2006-02-15 04:34:33\n",
       "4           5     JOHNNY  LOLLOBRIGIDA 2006-02-15 04:34:33\n",
       "..        ...        ...           ...                 ...\n",
       "195       196       BELA        WALKEN 2006-02-15 04:34:33\n",
       "196       197      REESE          WEST 2006-02-15 04:34:33\n",
       "197       198       MARY        KEITEL 2006-02-15 04:34:33\n",
       "198       199      JULIA       FAWCETT 2006-02-15 04:34:33\n",
       "199       200      THORA        TEMPLE 2006-02-15 04:34:33\n",
       "\n",
       "[200 rows x 4 columns]"
      ]
     },
     "execution_count": 185,
     "metadata": {},
     "output_type": "execute_result"
    }
   ],
   "source": [
    "df"
   ]
  },
  {
   "cell_type": "code",
   "execution_count": 212,
   "id": "b3778d6c",
   "metadata": {},
   "outputs": [
    {
     "name": "stdout",
     "output_type": "stream",
     "text": [
      "1 record(s) updated.\n"
     ]
    },
    {
     "name": "stderr",
     "output_type": "stream",
     "text": [
      "/var/folders/fx/4bnhkgc97836ksjrn6b864200000gn/T/ipykernel_1209/530053125.py:4: UserWarning: pandas only supports SQLAlchemy connectable (engine/connection) or database string URI or sqlite3 DBAPI2 connection. Other DBAPI2 objects are not tested. Please consider using SQLAlchemy.\n",
      "  sql_query = pd.read_sql_query ('''\n"
     ]
    },
    {
     "data": {
      "text/html": [
       "<div>\n",
       "<style scoped>\n",
       "    .dataframe tbody tr th:only-of-type {\n",
       "        vertical-align: middle;\n",
       "    }\n",
       "\n",
       "    .dataframe tbody tr th {\n",
       "        vertical-align: top;\n",
       "    }\n",
       "\n",
       "    .dataframe thead th {\n",
       "        text-align: right;\n",
       "    }\n",
       "</style>\n",
       "<table border=\"1\" class=\"dataframe\">\n",
       "  <thead>\n",
       "    <tr style=\"text-align: right;\">\n",
       "      <th></th>\n",
       "      <th>actor_id</th>\n",
       "      <th>first_name</th>\n",
       "      <th>last_name</th>\n",
       "      <th>last_update</th>\n",
       "    </tr>\n",
       "  </thead>\n",
       "  <tbody>\n",
       "    <tr>\n",
       "      <th>0</th>\n",
       "      <td>1</td>\n",
       "      <td>PENELOPE</td>\n",
       "      <td>GUINESS</td>\n",
       "      <td>2006-02-15 04:34:33</td>\n",
       "    </tr>\n",
       "    <tr>\n",
       "      <th>1</th>\n",
       "      <td>2</td>\n",
       "      <td>NICK</td>\n",
       "      <td>WAHLBERG</td>\n",
       "      <td>2006-02-15 04:34:33</td>\n",
       "    </tr>\n",
       "    <tr>\n",
       "      <th>2</th>\n",
       "      <td>3</td>\n",
       "      <td>ED</td>\n",
       "      <td>CHASE</td>\n",
       "      <td>2006-02-15 04:34:33</td>\n",
       "    </tr>\n",
       "    <tr>\n",
       "      <th>3</th>\n",
       "      <td>4</td>\n",
       "      <td>JENNIFER</td>\n",
       "      <td>DAVIS</td>\n",
       "      <td>2006-02-15 04:34:33</td>\n",
       "    </tr>\n",
       "    <tr>\n",
       "      <th>4</th>\n",
       "      <td>5</td>\n",
       "      <td>JOHNNY</td>\n",
       "      <td>LOLLOBRIGIDA</td>\n",
       "      <td>2006-02-15 04:34:33</td>\n",
       "    </tr>\n",
       "    <tr>\n",
       "      <th>...</th>\n",
       "      <td>...</td>\n",
       "      <td>...</td>\n",
       "      <td>...</td>\n",
       "      <td>...</td>\n",
       "    </tr>\n",
       "    <tr>\n",
       "      <th>199</th>\n",
       "      <td>200</td>\n",
       "      <td>THORA</td>\n",
       "      <td>TEMPLE</td>\n",
       "      <td>2006-02-15 04:34:33</td>\n",
       "    </tr>\n",
       "    <tr>\n",
       "      <th>200</th>\n",
       "      <td>201</td>\n",
       "      <td>John Doe</td>\n",
       "      <td>nn</td>\n",
       "      <td>2024-02-02 13:52:45</td>\n",
       "    </tr>\n",
       "    <tr>\n",
       "      <th>201</th>\n",
       "      <td>202</td>\n",
       "      <td>John Doe</td>\n",
       "      <td>nn</td>\n",
       "      <td>2024-02-02 14:05:30</td>\n",
       "    </tr>\n",
       "    <tr>\n",
       "      <th>202</th>\n",
       "      <td>203</td>\n",
       "      <td>John Doe</td>\n",
       "      <td>nn</td>\n",
       "      <td>2024-02-02 14:05:37</td>\n",
       "    </tr>\n",
       "    <tr>\n",
       "      <th>203</th>\n",
       "      <td>204</td>\n",
       "      <td>John Doe</td>\n",
       "      <td>nn</td>\n",
       "      <td>2024-02-02 14:06:01</td>\n",
       "    </tr>\n",
       "  </tbody>\n",
       "</table>\n",
       "<p>204 rows × 4 columns</p>\n",
       "</div>"
      ],
      "text/plain": [
       "     actor_id first_name     last_name         last_update\n",
       "0           1   PENELOPE       GUINESS 2006-02-15 04:34:33\n",
       "1           2       NICK      WAHLBERG 2006-02-15 04:34:33\n",
       "2           3         ED         CHASE 2006-02-15 04:34:33\n",
       "3           4   JENNIFER         DAVIS 2006-02-15 04:34:33\n",
       "4           5     JOHNNY  LOLLOBRIGIDA 2006-02-15 04:34:33\n",
       "..        ...        ...           ...                 ...\n",
       "199       200      THORA        TEMPLE 2006-02-15 04:34:33\n",
       "200       201   John Doe            nn 2024-02-02 13:52:45\n",
       "201       202   John Doe            nn 2024-02-02 14:05:30\n",
       "202       203   John Doe            nn 2024-02-02 14:05:37\n",
       "203       204   John Doe            nn 2024-02-02 14:06:01\n",
       "\n",
       "[204 rows x 4 columns]"
      ]
     },
     "execution_count": 212,
     "metadata": {},
     "output_type": "execute_result"
    }
   ],
   "source": [
    "mycursor.execute(\"INSERT INTO actor (first_name, last_name) VALUES ('John Doe', 'nn')\")\n",
    "mydb.commit()\n",
    "print(mycursor.rowcount, \"record(s) updated.\")\n",
    "sql_query = pd.read_sql_query ('''\n",
    "                               SELECT\n",
    "                               *\n",
    "                               FROM actor\n",
    "                               ''', mydb)\n",
    "\n",
    "df = pd.DataFrame(sql_query, columns = ['actor_id', 'first_name', 'last_name', 'last_update'])\n",
    "df"
   ]
  },
  {
   "cell_type": "code",
   "execution_count": 213,
   "id": "aba72d62",
   "metadata": {},
   "outputs": [
    {
     "name": "stdout",
     "output_type": "stream",
     "text": [
      "0 record(s) updated.\n"
     ]
    },
    {
     "name": "stderr",
     "output_type": "stream",
     "text": [
      "/var/folders/fx/4bnhkgc97836ksjrn6b864200000gn/T/ipykernel_1209/1729504528.py:8: UserWarning: pandas only supports SQLAlchemy connectable (engine/connection) or database string URI or sqlite3 DBAPI2 connection. Other DBAPI2 objects are not tested. Please consider using SQLAlchemy.\n",
      "  sql_query = pd.read_sql_query ('''\n"
     ]
    },
    {
     "data": {
      "text/html": [
       "<div>\n",
       "<style scoped>\n",
       "    .dataframe tbody tr th:only-of-type {\n",
       "        vertical-align: middle;\n",
       "    }\n",
       "\n",
       "    .dataframe tbody tr th {\n",
       "        vertical-align: top;\n",
       "    }\n",
       "\n",
       "    .dataframe thead th {\n",
       "        text-align: right;\n",
       "    }\n",
       "</style>\n",
       "<table border=\"1\" class=\"dataframe\">\n",
       "  <thead>\n",
       "    <tr style=\"text-align: right;\">\n",
       "      <th></th>\n",
       "      <th>actor_id</th>\n",
       "      <th>first_name</th>\n",
       "      <th>last_name</th>\n",
       "      <th>last_update</th>\n",
       "    </tr>\n",
       "  </thead>\n",
       "  <tbody>\n",
       "    <tr>\n",
       "      <th>0</th>\n",
       "      <td>1</td>\n",
       "      <td>PENELOPE</td>\n",
       "      <td>GUINESS</td>\n",
       "      <td>2006-02-15 04:34:33</td>\n",
       "    </tr>\n",
       "    <tr>\n",
       "      <th>1</th>\n",
       "      <td>2</td>\n",
       "      <td>NICK</td>\n",
       "      <td>WAHLBERG</td>\n",
       "      <td>2006-02-15 04:34:33</td>\n",
       "    </tr>\n",
       "    <tr>\n",
       "      <th>2</th>\n",
       "      <td>3</td>\n",
       "      <td>ED</td>\n",
       "      <td>CHASE</td>\n",
       "      <td>2006-02-15 04:34:33</td>\n",
       "    </tr>\n",
       "    <tr>\n",
       "      <th>3</th>\n",
       "      <td>4</td>\n",
       "      <td>JENNIFER</td>\n",
       "      <td>DAVIS</td>\n",
       "      <td>2006-02-15 04:34:33</td>\n",
       "    </tr>\n",
       "    <tr>\n",
       "      <th>4</th>\n",
       "      <td>5</td>\n",
       "      <td>JOHNNY</td>\n",
       "      <td>LOLLOBRIGIDA</td>\n",
       "      <td>2006-02-15 04:34:33</td>\n",
       "    </tr>\n",
       "    <tr>\n",
       "      <th>5</th>\n",
       "      <td>6</td>\n",
       "      <td>BETTE</td>\n",
       "      <td>NICHOLSON</td>\n",
       "      <td>2006-02-15 04:34:33</td>\n",
       "    </tr>\n",
       "    <tr>\n",
       "      <th>6</th>\n",
       "      <td>7</td>\n",
       "      <td>GRACE</td>\n",
       "      <td>MOSTEL</td>\n",
       "      <td>2006-02-15 04:34:33</td>\n",
       "    </tr>\n",
       "    <tr>\n",
       "      <th>7</th>\n",
       "      <td>8</td>\n",
       "      <td>MATTHEW</td>\n",
       "      <td>JOHANSSON</td>\n",
       "      <td>2006-02-15 04:34:33</td>\n",
       "    </tr>\n",
       "    <tr>\n",
       "      <th>8</th>\n",
       "      <td>9</td>\n",
       "      <td>JOE</td>\n",
       "      <td>SWANK</td>\n",
       "      <td>2006-02-15 04:34:33</td>\n",
       "    </tr>\n",
       "    <tr>\n",
       "      <th>9</th>\n",
       "      <td>10</td>\n",
       "      <td>CHRISTIAN</td>\n",
       "      <td>GABLE</td>\n",
       "      <td>2006-02-15 04:34:33</td>\n",
       "    </tr>\n",
       "    <tr>\n",
       "      <th>10</th>\n",
       "      <td>11</td>\n",
       "      <td>ZERO</td>\n",
       "      <td>CAGE</td>\n",
       "      <td>2006-02-15 04:34:33</td>\n",
       "    </tr>\n",
       "    <tr>\n",
       "      <th>11</th>\n",
       "      <td>12</td>\n",
       "      <td>KARL</td>\n",
       "      <td>BERRY</td>\n",
       "      <td>2006-02-15 04:34:33</td>\n",
       "    </tr>\n",
       "    <tr>\n",
       "      <th>12</th>\n",
       "      <td>13</td>\n",
       "      <td>UMA</td>\n",
       "      <td>WOOD</td>\n",
       "      <td>2006-02-15 04:34:33</td>\n",
       "    </tr>\n",
       "    <tr>\n",
       "      <th>13</th>\n",
       "      <td>14</td>\n",
       "      <td>VIVIEN</td>\n",
       "      <td>BERGEN</td>\n",
       "      <td>2006-02-15 04:34:33</td>\n",
       "    </tr>\n",
       "    <tr>\n",
       "      <th>14</th>\n",
       "      <td>15</td>\n",
       "      <td>CUBA</td>\n",
       "      <td>OLIVIER</td>\n",
       "      <td>2006-02-15 04:34:33</td>\n",
       "    </tr>\n",
       "    <tr>\n",
       "      <th>15</th>\n",
       "      <td>16</td>\n",
       "      <td>FRED</td>\n",
       "      <td>COSTNER</td>\n",
       "      <td>2006-02-15 04:34:33</td>\n",
       "    </tr>\n",
       "    <tr>\n",
       "      <th>16</th>\n",
       "      <td>17</td>\n",
       "      <td>HELEN</td>\n",
       "      <td>VOIGHT</td>\n",
       "      <td>2006-02-15 04:34:33</td>\n",
       "    </tr>\n",
       "    <tr>\n",
       "      <th>17</th>\n",
       "      <td>18</td>\n",
       "      <td>DAN</td>\n",
       "      <td>TORN</td>\n",
       "      <td>2006-02-15 04:34:33</td>\n",
       "    </tr>\n",
       "    <tr>\n",
       "      <th>18</th>\n",
       "      <td>19</td>\n",
       "      <td>BOB</td>\n",
       "      <td>FAWCETT</td>\n",
       "      <td>2006-02-15 04:34:33</td>\n",
       "    </tr>\n",
       "    <tr>\n",
       "      <th>19</th>\n",
       "      <td>20</td>\n",
       "      <td>LUCILLE</td>\n",
       "      <td>TRACY</td>\n",
       "      <td>2006-02-15 04:34:33</td>\n",
       "    </tr>\n",
       "    <tr>\n",
       "      <th>20</th>\n",
       "      <td>21</td>\n",
       "      <td>KIRSTEN</td>\n",
       "      <td>PALTROW</td>\n",
       "      <td>2006-02-15 04:34:33</td>\n",
       "    </tr>\n",
       "    <tr>\n",
       "      <th>21</th>\n",
       "      <td>22</td>\n",
       "      <td>Anne</td>\n",
       "      <td>Gal</td>\n",
       "      <td>2024-02-02 14:01:26</td>\n",
       "    </tr>\n",
       "    <tr>\n",
       "      <th>22</th>\n",
       "      <td>23</td>\n",
       "      <td>SANDRA</td>\n",
       "      <td>KILMER</td>\n",
       "      <td>2006-02-15 04:34:33</td>\n",
       "    </tr>\n",
       "    <tr>\n",
       "      <th>23</th>\n",
       "      <td>24</td>\n",
       "      <td>CAMERON</td>\n",
       "      <td>STREEP</td>\n",
       "      <td>2006-02-15 04:34:33</td>\n",
       "    </tr>\n",
       "    <tr>\n",
       "      <th>24</th>\n",
       "      <td>25</td>\n",
       "      <td>KEVIN</td>\n",
       "      <td>BLOOM</td>\n",
       "      <td>2006-02-15 04:34:33</td>\n",
       "    </tr>\n",
       "  </tbody>\n",
       "</table>\n",
       "</div>"
      ],
      "text/plain": [
       "    actor_id first_name     last_name         last_update\n",
       "0          1   PENELOPE       GUINESS 2006-02-15 04:34:33\n",
       "1          2       NICK      WAHLBERG 2006-02-15 04:34:33\n",
       "2          3         ED         CHASE 2006-02-15 04:34:33\n",
       "3          4   JENNIFER         DAVIS 2006-02-15 04:34:33\n",
       "4          5     JOHNNY  LOLLOBRIGIDA 2006-02-15 04:34:33\n",
       "5          6      BETTE     NICHOLSON 2006-02-15 04:34:33\n",
       "6          7      GRACE        MOSTEL 2006-02-15 04:34:33\n",
       "7          8    MATTHEW     JOHANSSON 2006-02-15 04:34:33\n",
       "8          9        JOE         SWANK 2006-02-15 04:34:33\n",
       "9         10  CHRISTIAN         GABLE 2006-02-15 04:34:33\n",
       "10        11       ZERO          CAGE 2006-02-15 04:34:33\n",
       "11        12       KARL         BERRY 2006-02-15 04:34:33\n",
       "12        13        UMA          WOOD 2006-02-15 04:34:33\n",
       "13        14     VIVIEN        BERGEN 2006-02-15 04:34:33\n",
       "14        15       CUBA       OLIVIER 2006-02-15 04:34:33\n",
       "15        16       FRED       COSTNER 2006-02-15 04:34:33\n",
       "16        17      HELEN        VOIGHT 2006-02-15 04:34:33\n",
       "17        18        DAN          TORN 2006-02-15 04:34:33\n",
       "18        19        BOB       FAWCETT 2006-02-15 04:34:33\n",
       "19        20    LUCILLE         TRACY 2006-02-15 04:34:33\n",
       "20        21    KIRSTEN       PALTROW 2006-02-15 04:34:33\n",
       "21        22       Anne           Gal 2024-02-02 14:01:26\n",
       "22        23     SANDRA        KILMER 2006-02-15 04:34:33\n",
       "23        24    CAMERON        STREEP 2006-02-15 04:34:33\n",
       "24        25      KEVIN         BLOOM 2006-02-15 04:34:33"
      ]
     },
     "execution_count": 213,
     "metadata": {},
     "output_type": "execute_result"
    }
   ],
   "source": [
    "sql = \"UPDATE actor SET first_name=%s, last_name=%s WHERE actor_id=%s\"\n",
    "val = (\"Anne\", \"Gal\", 22)\n",
    "mycursor.execute(sql, val)\n",
    "\n",
    "mydb.commit()\n",
    "\n",
    "sql_query = pd.read_sql_query ('''\n",
    "                               SELECT\n",
    "                               *\n",
    "                               FROM actor\n",
    "                               ''', mydb)\n",
    "\n",
    "df = pd.DataFrame(sql_query, columns = ['actor_id', 'first_name', 'last_name', 'last_update'])\n",
    "df.head(25)"
   ]
  },
  {
   "cell_type": "code",
   "execution_count": 221,
   "id": "8031a996",
   "metadata": {},
   "outputs": [
    {
     "name": "stdout",
     "output_type": "stream",
     "text": [
      "0 record(s) updated.\n"
     ]
    },
    {
     "name": "stderr",
     "output_type": "stream",
     "text": [
      "/var/folders/fx/4bnhkgc97836ksjrn6b864200000gn/T/ipykernel_1209/1973368986.py:7: UserWarning: pandas only supports SQLAlchemy connectable (engine/connection) or database string URI or sqlite3 DBAPI2 connection. Other DBAPI2 objects are not tested. Please consider using SQLAlchemy.\n",
      "  sql_query = pd.read_sql_query ('''\n"
     ]
    },
    {
     "data": {
      "text/html": [
       "<div>\n",
       "<style scoped>\n",
       "    .dataframe tbody tr th:only-of-type {\n",
       "        vertical-align: middle;\n",
       "    }\n",
       "\n",
       "    .dataframe tbody tr th {\n",
       "        vertical-align: top;\n",
       "    }\n",
       "\n",
       "    .dataframe thead th {\n",
       "        text-align: right;\n",
       "    }\n",
       "</style>\n",
       "<table border=\"1\" class=\"dataframe\">\n",
       "  <thead>\n",
       "    <tr style=\"text-align: right;\">\n",
       "      <th></th>\n",
       "      <th>actor_id</th>\n",
       "      <th>first_name</th>\n",
       "      <th>last_name</th>\n",
       "      <th>last_update</th>\n",
       "    </tr>\n",
       "  </thead>\n",
       "  <tbody>\n",
       "    <tr>\n",
       "      <th>0</th>\n",
       "      <td>1</td>\n",
       "      <td>PENELOPE</td>\n",
       "      <td>GUINESS</td>\n",
       "      <td>2006-02-15 04:34:33</td>\n",
       "    </tr>\n",
       "    <tr>\n",
       "      <th>1</th>\n",
       "      <td>2</td>\n",
       "      <td>NICK</td>\n",
       "      <td>WAHLBERG</td>\n",
       "      <td>2006-02-15 04:34:33</td>\n",
       "    </tr>\n",
       "    <tr>\n",
       "      <th>2</th>\n",
       "      <td>3</td>\n",
       "      <td>ED</td>\n",
       "      <td>CHASE</td>\n",
       "      <td>2006-02-15 04:34:33</td>\n",
       "    </tr>\n",
       "    <tr>\n",
       "      <th>3</th>\n",
       "      <td>4</td>\n",
       "      <td>JENNIFER</td>\n",
       "      <td>DAVIS</td>\n",
       "      <td>2006-02-15 04:34:33</td>\n",
       "    </tr>\n",
       "    <tr>\n",
       "      <th>4</th>\n",
       "      <td>5</td>\n",
       "      <td>JOHNNY</td>\n",
       "      <td>LOLLOBRIGIDA</td>\n",
       "      <td>2006-02-15 04:34:33</td>\n",
       "    </tr>\n",
       "    <tr>\n",
       "      <th>...</th>\n",
       "      <td>...</td>\n",
       "      <td>...</td>\n",
       "      <td>...</td>\n",
       "      <td>...</td>\n",
       "    </tr>\n",
       "    <tr>\n",
       "      <th>195</th>\n",
       "      <td>196</td>\n",
       "      <td>BELA</td>\n",
       "      <td>WALKEN</td>\n",
       "      <td>2006-02-15 04:34:33</td>\n",
       "    </tr>\n",
       "    <tr>\n",
       "      <th>196</th>\n",
       "      <td>197</td>\n",
       "      <td>REESE</td>\n",
       "      <td>WEST</td>\n",
       "      <td>2006-02-15 04:34:33</td>\n",
       "    </tr>\n",
       "    <tr>\n",
       "      <th>197</th>\n",
       "      <td>198</td>\n",
       "      <td>MARY</td>\n",
       "      <td>KEITEL</td>\n",
       "      <td>2006-02-15 04:34:33</td>\n",
       "    </tr>\n",
       "    <tr>\n",
       "      <th>198</th>\n",
       "      <td>199</td>\n",
       "      <td>JULIA</td>\n",
       "      <td>FAWCETT</td>\n",
       "      <td>2006-02-15 04:34:33</td>\n",
       "    </tr>\n",
       "    <tr>\n",
       "      <th>199</th>\n",
       "      <td>200</td>\n",
       "      <td>THORA</td>\n",
       "      <td>TEMPLE</td>\n",
       "      <td>2006-02-15 04:34:33</td>\n",
       "    </tr>\n",
       "  </tbody>\n",
       "</table>\n",
       "<p>200 rows × 4 columns</p>\n",
       "</div>"
      ],
      "text/plain": [
       "     actor_id first_name     last_name         last_update\n",
       "0           1   PENELOPE       GUINESS 2006-02-15 04:34:33\n",
       "1           2       NICK      WAHLBERG 2006-02-15 04:34:33\n",
       "2           3         ED         CHASE 2006-02-15 04:34:33\n",
       "3           4   JENNIFER         DAVIS 2006-02-15 04:34:33\n",
       "4           5     JOHNNY  LOLLOBRIGIDA 2006-02-15 04:34:33\n",
       "..        ...        ...           ...                 ...\n",
       "195       196       BELA        WALKEN 2006-02-15 04:34:33\n",
       "196       197      REESE          WEST 2006-02-15 04:34:33\n",
       "197       198       MARY        KEITEL 2006-02-15 04:34:33\n",
       "198       199      JULIA       FAWCETT 2006-02-15 04:34:33\n",
       "199       200      THORA        TEMPLE 2006-02-15 04:34:33\n",
       "\n",
       "[200 rows x 4 columns]"
      ]
     },
     "execution_count": 221,
     "metadata": {},
     "output_type": "execute_result"
    }
   ],
   "source": [
    "sql = \"DELETE FROM actor WHERE last_name=%s;\"\n",
    "val = [\"nn\"]\n",
    "mycursor.execute(sql, val)\n",
    "mydb.commit()\n",
    "print(mycursor.rowcount, \"record(s) updated.\")\n",
    "\n",
    "sql_query = pd.read_sql_query ('''\n",
    "                               SELECT\n",
    "                               *\n",
    "                               FROM actor\n",
    "                               ''', mydb)\n",
    "\n",
    "df = pd.DataFrame(sql_query, columns = ['actor_id', 'first_name', 'last_name', 'last_update'])\n",
    "df"
   ]
  },
  {
   "cell_type": "code",
   "execution_count": 229,
   "id": "d13f0bb4",
   "metadata": {},
   "outputs": [
    {
     "data": {
      "text/plain": [
       "actor_id                int64\n",
       "first_name             object\n",
       "last_name              object\n",
       "last_update    datetime64[ns]\n",
       "dtype: object"
      ]
     },
     "execution_count": 229,
     "metadata": {},
     "output_type": "execute_result"
    }
   ],
   "source": [
    "# cek data type\n",
    "df.dtypes"
   ]
  },
  {
   "cell_type": "code",
   "execution_count": 227,
   "id": "7df72ccc",
   "metadata": {},
   "outputs": [
    {
     "data": {
      "text/plain": [
       "actor_id       0\n",
       "first_name     0\n",
       "last_name      0\n",
       "last_update    0\n",
       "dtype: int64"
      ]
     },
     "execution_count": 227,
     "metadata": {},
     "output_type": "execute_result"
    }
   ],
   "source": [
    "df.isnull().sum()"
   ]
  },
  {
   "cell_type": "code",
   "execution_count": 230,
   "id": "9eaeadb7",
   "metadata": {},
   "outputs": [
    {
     "data": {
      "text/html": [
       "<div>\n",
       "<style scoped>\n",
       "    .dataframe tbody tr th:only-of-type {\n",
       "        vertical-align: middle;\n",
       "    }\n",
       "\n",
       "    .dataframe tbody tr th {\n",
       "        vertical-align: top;\n",
       "    }\n",
       "\n",
       "    .dataframe thead th {\n",
       "        text-align: right;\n",
       "    }\n",
       "</style>\n",
       "<table border=\"1\" class=\"dataframe\">\n",
       "  <thead>\n",
       "    <tr style=\"text-align: right;\">\n",
       "      <th></th>\n",
       "      <th>actor_id</th>\n",
       "    </tr>\n",
       "  </thead>\n",
       "  <tbody>\n",
       "    <tr>\n",
       "      <th>count</th>\n",
       "      <td>200.000000</td>\n",
       "    </tr>\n",
       "    <tr>\n",
       "      <th>mean</th>\n",
       "      <td>100.500000</td>\n",
       "    </tr>\n",
       "    <tr>\n",
       "      <th>std</th>\n",
       "      <td>57.879185</td>\n",
       "    </tr>\n",
       "    <tr>\n",
       "      <th>min</th>\n",
       "      <td>1.000000</td>\n",
       "    </tr>\n",
       "    <tr>\n",
       "      <th>25%</th>\n",
       "      <td>50.750000</td>\n",
       "    </tr>\n",
       "    <tr>\n",
       "      <th>50%</th>\n",
       "      <td>100.500000</td>\n",
       "    </tr>\n",
       "    <tr>\n",
       "      <th>75%</th>\n",
       "      <td>150.250000</td>\n",
       "    </tr>\n",
       "    <tr>\n",
       "      <th>max</th>\n",
       "      <td>200.000000</td>\n",
       "    </tr>\n",
       "  </tbody>\n",
       "</table>\n",
       "</div>"
      ],
      "text/plain": [
       "         actor_id\n",
       "count  200.000000\n",
       "mean   100.500000\n",
       "std     57.879185\n",
       "min      1.000000\n",
       "25%     50.750000\n",
       "50%    100.500000\n",
       "75%    150.250000\n",
       "max    200.000000"
      ]
     },
     "execution_count": 230,
     "metadata": {},
     "output_type": "execute_result"
    }
   ],
   "source": [
    "df.describe()"
   ]
  },
  {
   "cell_type": "code",
   "execution_count": 232,
   "id": "db705517",
   "metadata": {},
   "outputs": [
    {
     "data": {
      "text/plain": [
       "str"
      ]
     },
     "execution_count": 232,
     "metadata": {},
     "output_type": "execute_result"
    }
   ],
   "source": [
    "type(df[\"last_name\"][1])"
   ]
  },
  {
   "cell_type": "markdown",
   "id": "80dd36f8",
   "metadata": {},
   "source": [
    "jika ada \"BE\" di belakang, tampilkan nama depan"
   ]
  },
  {
   "cell_type": "code",
   "execution_count": 237,
   "id": "762b02a5",
   "metadata": {},
   "outputs": [
    {
     "name": "stdout",
     "output_type": "stream",
     "text": [
      "NICK\n",
      "KARL\n",
      "VIVIEN\n",
      "PARKER\n",
      "HENRY\n",
      "CHRISTOPHER\n",
      "DARYL\n",
      "LIZA\n",
      "SCARLETT\n",
      "MICHAEL\n"
     ]
    }
   ],
   "source": [
    "for x in range(len(df)):\n",
    "    if 'BE' in df['last_name'][x]:\n",
    "        print(df['first_name'][x])"
   ]
  },
  {
   "cell_type": "code",
   "execution_count": 254,
   "id": "10647365",
   "metadata": {},
   "outputs": [
    {
     "name": "stderr",
     "output_type": "stream",
     "text": [
      "/var/folders/fx/4bnhkgc97836ksjrn6b864200000gn/T/ipykernel_1209/1775013325.py:3: UserWarning: pandas only supports SQLAlchemy connectable (engine/connection) or database string URI or sqlite3 DBAPI2 connection. Other DBAPI2 objects are not tested. Please consider using SQLAlchemy.\n",
      "  sql_query = pd.read_sql_query ('''\n"
     ]
    },
    {
     "data": {
      "text/html": [
       "<div>\n",
       "<style scoped>\n",
       "    .dataframe tbody tr th:only-of-type {\n",
       "        vertical-align: middle;\n",
       "    }\n",
       "\n",
       "    .dataframe tbody tr th {\n",
       "        vertical-align: top;\n",
       "    }\n",
       "\n",
       "    .dataframe thead th {\n",
       "        text-align: right;\n",
       "    }\n",
       "</style>\n",
       "<table border=\"1\" class=\"dataframe\">\n",
       "  <thead>\n",
       "    <tr style=\"text-align: right;\">\n",
       "      <th></th>\n",
       "      <th>address_id</th>\n",
       "      <th>address</th>\n",
       "      <th>city_id</th>\n",
       "      <th>city</th>\n",
       "    </tr>\n",
       "  </thead>\n",
       "  <tbody>\n",
       "    <tr>\n",
       "      <th>0</th>\n",
       "      <td>1</td>\n",
       "      <td>47 MySakila Drive</td>\n",
       "      <td>300</td>\n",
       "      <td>Lethbridge</td>\n",
       "    </tr>\n",
       "    <tr>\n",
       "      <th>1</th>\n",
       "      <td>2</td>\n",
       "      <td>28 MySQL Boulevard</td>\n",
       "      <td>576</td>\n",
       "      <td>Woodridge</td>\n",
       "    </tr>\n",
       "    <tr>\n",
       "      <th>2</th>\n",
       "      <td>3</td>\n",
       "      <td>23 Workhaven Lane</td>\n",
       "      <td>300</td>\n",
       "      <td>Lethbridge</td>\n",
       "    </tr>\n",
       "    <tr>\n",
       "      <th>3</th>\n",
       "      <td>4</td>\n",
       "      <td>1411 Lillydale Drive</td>\n",
       "      <td>576</td>\n",
       "      <td>Woodridge</td>\n",
       "    </tr>\n",
       "    <tr>\n",
       "      <th>4</th>\n",
       "      <td>5</td>\n",
       "      <td>1913 Hanoi Way</td>\n",
       "      <td>463</td>\n",
       "      <td>Sasebo</td>\n",
       "    </tr>\n",
       "    <tr>\n",
       "      <th>...</th>\n",
       "      <td>...</td>\n",
       "      <td>...</td>\n",
       "      <td>...</td>\n",
       "      <td>...</td>\n",
       "    </tr>\n",
       "    <tr>\n",
       "      <th>598</th>\n",
       "      <td>601</td>\n",
       "      <td>844 Bucuresti Place</td>\n",
       "      <td>242</td>\n",
       "      <td>Jinzhou</td>\n",
       "    </tr>\n",
       "    <tr>\n",
       "      <th>599</th>\n",
       "      <td>602</td>\n",
       "      <td>1101 Bucuresti Boulevard</td>\n",
       "      <td>401</td>\n",
       "      <td>Patras</td>\n",
       "    </tr>\n",
       "    <tr>\n",
       "      <th>600</th>\n",
       "      <td>603</td>\n",
       "      <td>1103 Quilmes Boulevard</td>\n",
       "      <td>503</td>\n",
       "      <td>Sullana</td>\n",
       "    </tr>\n",
       "    <tr>\n",
       "      <th>601</th>\n",
       "      <td>604</td>\n",
       "      <td>1331 Usak Boulevard</td>\n",
       "      <td>296</td>\n",
       "      <td>Lausanne</td>\n",
       "    </tr>\n",
       "    <tr>\n",
       "      <th>602</th>\n",
       "      <td>605</td>\n",
       "      <td>1325 Fukuyama Street</td>\n",
       "      <td>537</td>\n",
       "      <td>Tieli</td>\n",
       "    </tr>\n",
       "  </tbody>\n",
       "</table>\n",
       "<p>603 rows × 4 columns</p>\n",
       "</div>"
      ],
      "text/plain": [
       "     address_id                   address  city_id        city\n",
       "0             1         47 MySakila Drive      300  Lethbridge\n",
       "1             2        28 MySQL Boulevard      576   Woodridge\n",
       "2             3         23 Workhaven Lane      300  Lethbridge\n",
       "3             4      1411 Lillydale Drive      576   Woodridge\n",
       "4             5            1913 Hanoi Way      463      Sasebo\n",
       "..          ...                       ...      ...         ...\n",
       "598         601       844 Bucuresti Place      242     Jinzhou\n",
       "599         602  1101 Bucuresti Boulevard      401      Patras\n",
       "600         603    1103 Quilmes Boulevard      503     Sullana\n",
       "601         604       1331 Usak Boulevard      296    Lausanne\n",
       "602         605      1325 Fukuyama Street      537       Tieli\n",
       "\n",
       "[603 rows x 4 columns]"
      ]
     },
     "execution_count": 254,
     "metadata": {},
     "output_type": "execute_result"
    }
   ],
   "source": [
    "#mycursor = mydb.cursor()\n",
    "#crsr = cnxn.cursor()\n",
    "sql_query = pd.read_sql_query ('''\n",
    "                               SELECT\n",
    "                               address_id, address, address.city_id, city \n",
    "                               FROM address\n",
    "                               INNER JOIN city\n",
    "                               ON address.city_id = city.city_id;\n",
    "                               ''', mydb)\n",
    "\n",
    "city = pd.DataFrame(sql_query, columns = [\"address_id\", \"address\", \"city_id\", \"city\"])\n",
    "city\n"
   ]
  },
  {
   "cell_type": "code",
   "execution_count": 258,
   "id": "1ffeca59",
   "metadata": {},
   "outputs": [
    {
     "name": "stdout",
     "output_type": "stream",
     "text": [
      "kota Woodridge dan alamat 28 MySQL Boulevard\n",
      "kota Lethbridge dan alamat 23 Workhaven Lane\n",
      "kota Woodridge dan alamat 1411 Lillydale Drive\n",
      "kota Sasebo dan alamat 1913 Hanoi Way\n",
      "kota San Bernardino dan alamat 1121 Loja Avenue\n",
      "kota Athenai dan alamat 692 Joliet Street\n",
      "kota Myingyan dan alamat 1566 Inegöl Manor\n",
      "kota Nantou dan alamat 53 Idfu Parkway\n",
      "kota Laredo dan alamat 1795 Santiago de Compostela Way\n",
      "kota Kragujevac dan alamat 900 Santiago de Compostela Parkway\n",
      "kota Hamilton dan alamat 478 Joliet Way\n",
      "kota Masqat dan alamat 613 Korolev Drive\n",
      "kota Esfahan dan alamat 1531 Salé Drive\n",
      "kota Sagamihara dan alamat 1542 Tarlac Parkway\n",
      "kota Yamuna Nagar dan alamat 808 Bhopal Manor\n",
      "kota Osmaniye dan alamat 270 Amroha Parkway\n",
      "kota Citrus Heights dan alamat 770 Bydgoszcz Avenue\n",
      "kota Bhopal dan alamat 419 Iligan Lane\n",
      "kota Southend-on-Sea dan alamat 360 Toulouse Parkway\n",
      "kota Elista dan alamat 270 Toulon Boulevard\n",
      "kota Kaduna dan alamat 320 Brest Avenue\n",
      "kota Kimberley dan alamat 1417 Lancaster Avenue\n",
      "kota Mardan dan alamat 1688 Okara Way\n",
      "kota Tangail dan alamat 262 A Coruña (La Coruña) Parkway\n",
      "kota Salé dan alamat 28 Charlotte Amalie Street\n",
      "kota Liepaja dan alamat 1780 Hino Boulevard\n",
      "kota Córdoba dan alamat 96 Tafuna Way\n",
      "kota Shikarpur dan alamat 934 San Felipe de Puerto Plata Street\n",
      "kota Città del Vaticano dan alamat 18 Duisburg Boulevard\n",
      "kota Davao dan alamat 217 Botshabelo Place\n",
      "kota Munger (Monghyr) dan alamat 1425 Shikarpur Manor\n",
      "kota Shimonoseki dan alamat 786 Aurora Avenue\n",
      "kota Lungtan dan alamat 1668 Anápolis Street\n",
      "kota Kamarhati dan alamat 33 Gorontalo Way\n",
      "kota Jhansi dan alamat 176 Mandaluyong Place\n",
      "kota Alessandria dan alamat 127 Purnea (Purnia) Manor\n",
      "kota Kurashiki dan alamat 61 Tama Street\n",
      "kota Toulouse dan alamat 391 Callao Drive\n",
      "kota Arak dan alamat 334 Munger (Monghyr) Lane\n",
      "kota Nanyang dan alamat 1440 Fukuyama Loop\n",
      "kota Chisinau dan alamat 269 Cam Ranh Parkway\n",
      "kota Vila Velha dan alamat 306 Antofagasta Place\n",
      "kota Nador dan alamat 671 Graz Street\n",
      "kota Yerevan dan alamat 42 Brindisi Place\n",
      "kota Pak Kret dan alamat 1632 Bislig Avenue\n",
      "kota Faaa dan alamat 1447 Imus Way\n",
      "kota Lipetsk dan alamat 1998 Halifax Drive\n",
      "kota Antofagasta dan alamat 1718 Valencia Street\n",
      "kota Moscow dan alamat 46 Pjatigorsk Lane\n",
      "kota Juazeiro do Norte dan alamat 686 Garland Manor\n",
      "kota Niznekamsk dan alamat 909 Garland Manor\n",
      "kota Jedda dan alamat 725 Isesaki Place\n",
      "kota Omdurman dan alamat 115 Hidalgo Parkway\n",
      "kota Fontana dan alamat 1135 Izumisano Parkway\n",
      "kota A Coruña (La Coruña) dan alamat 939 Probolinggo Loop\n",
      "kota Nagareyama dan alamat 17 Kabul Boulevard\n",
      "kota Iwakuni dan alamat 1964 Allappuzha (Alleppey) Street\n",
      "kota Balašiha dan alamat 1697 Kowloon and New Kowloon Loop\n",
      "kota Papeete dan alamat 1668 Saint Louis Place\n"
     ]
    }
   ],
   "source": [
    "N = 1\n",
    "while N < 60:\n",
    "    print(\"kota\", city['city'][N], \"dan alamat\", city['address'][N])\n",
    "    N+=1"
   ]
  },
  {
   "cell_type": "code",
   "execution_count": null,
   "id": "9a387f9f",
   "metadata": {},
   "outputs": [],
   "source": []
  }
 ],
 "metadata": {
  "kernelspec": {
   "display_name": "Python 3 (ipykernel)",
   "language": "python",
   "name": "python3"
  },
  "language_info": {
   "codemirror_mode": {
    "name": "ipython",
    "version": 3
   },
   "file_extension": ".py",
   "mimetype": "text/x-python",
   "name": "python",
   "nbconvert_exporter": "python",
   "pygments_lexer": "ipython3",
   "version": "3.10.9"
  }
 },
 "nbformat": 4,
 "nbformat_minor": 5
}
