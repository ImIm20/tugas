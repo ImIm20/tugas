{
 "cells": [
  {
   "cell_type": "markdown",
   "id": "0284df0d",
   "metadata": {},
   "source": [
    "# Soal 1\n",
    "S=12. Ketika S>18, maka cetak 12,13,14,15 dan 'selesai"
   ]
  },
  {
   "cell_type": "code",
   "execution_count": 11,
   "id": "fd898191",
   "metadata": {},
   "outputs": [
    {
     "name": "stdout",
     "output_type": "stream",
     "text": [
      "12\n",
      "13\n",
      "14\n",
      "15\n",
      "selesai 19\n"
     ]
    }
   ],
   "source": [
    "s = 12\n",
    "\n",
    "while s<=19:\n",
    "    if s<=15:\n",
    "        print(s)\n",
    "    elif s>18:\n",
    "        print('selesai',s)\n",
    "    s+=1\n",
    "    \n"
   ]
  },
  {
   "cell_type": "markdown",
   "id": "495ccda7",
   "metadata": {},
   "source": [
    "# Soal 2\n",
    "dari list \n",
    "- sistem = [\"saya\",\"pergi\",\"ke\",\"LPPI\",\"kemang\"]\n",
    "- engineer = [\"tidak\",\"jalan\",\"karena\",\"banjir\"]\n",
    "\n",
    "tampilkan:\\\n",
    "&nbsp;&nbsp;&nbsp;&nbsp; saya\\\n",
    "&nbsp;&nbsp;&nbsp;&nbsp; tidak\\\n",
    "&nbsp;&nbsp;&nbsp;&nbsp; pergi\\\n",
    "&nbsp;&nbsp;&nbsp;&nbsp; karena banjir\n",
    "    \n",
    "⁠tampilkan:\\\n",
    "&nbsp;&nbsp;&nbsp;&nbsp; saya\\\n",
    "&nbsp;&nbsp;&nbsp;&nbsp; tetap\\\n",
    "&nbsp;&nbsp;&nbsp;&nbsp; pergi\\\n",
    "&nbsp;&nbsp;&nbsp;&nbsp; karena banjir\n"
   ]
  },
  {
   "cell_type": "code",
   "execution_count": 6,
   "id": "14f9122d",
   "metadata": {},
   "outputs": [
    {
     "name": "stdout",
     "output_type": "stream",
     "text": [
      "saya \n",
      " tidak \n",
      " pergi \n",
      " karena banjir\n"
     ]
    }
   ],
   "source": [
    "sistem = [\"saya\",\"pergi\",\"ke\",\"LPPI\",\"kemang\"]\n",
    "engineer = [\"tidak\",\"jalan\",\"karena\",\"banjir\"]\n",
    "\n",
    "print(sistem[0], \"\\n\", engineer[0], \"\\n\",\n",
    "      sistem[1], \"\\n\", engineer[-2], engineer[-1])"
   ]
  },
  {
   "cell_type": "code",
   "execution_count": 7,
   "id": "6dcb7358",
   "metadata": {},
   "outputs": [
    {
     "name": "stdout",
     "output_type": "stream",
     "text": [
      "saya \n",
      " tetap \n",
      " pergi \n",
      " karena banjir\n"
     ]
    }
   ],
   "source": [
    "engineer[0] = \"tetap\"\n",
    "print(sistem[0], \"\\n\", engineer[0], \"\\n\",\n",
    "      sistem[1], \"\\n\", engineer[-2], engineer[-1])"
   ]
  },
  {
   "cell_type": "markdown",
   "id": "1b77e14c",
   "metadata": {},
   "source": [
    "# Soal 3\n",
    " berdasarkan tabel nilai yg ada di excel, tampilkan jika nilai A <= 60 atau nilai B <=60, maka dinyatakan gagal\n"
   ]
  },
  {
   "cell_type": "code",
   "execution_count": 8,
   "id": "aa87d8b8",
   "metadata": {},
   "outputs": [
    {
     "name": "stdout",
     "output_type": "stream",
     "text": [
      "nama1, nilaiA= 80, nilaiA= 70, total= 150, status: lulus\n",
      "nama2, nilaiA= 55, nilaiA= 70, total= 125, status: tidak lulus\n",
      "nama3, nilaiA= 80, nilaiA= 90, total= 170, status: lulus\n",
      "nama4, nilaiA= 75, nilaiA= 60, total= 135, status: tidak lulus\n",
      "nama5, nilaiA= 90, nilaiA= 70, total= 160, status: lulus\n"
     ]
    }
   ],
   "source": [
    "nama = ['nama1','nama2','nama3','nama4','nama5']\n",
    "nilaiA = [80,55,80,75,90]\n",
    "nilaiB = [70,70,90,60,70]\n",
    "\n",
    "for i in range(len(nama)):\n",
    "    if (nilaiA[i]<=60) or nilaiB[i]<=60:\n",
    "        print(f\"{nama[i]}, nilaiA= {nilaiA[i]}, nilaiA= {nilaiB[i]}, total= {nilaiA[i]+nilaiB[i]}, status: tidak lulus\")\n",
    "    else:\n",
    "        print(f\"{nama[i]}, nilaiA= {nilaiA[i]}, nilaiA= {nilaiB[i]}, total= {nilaiA[i]+nilaiB[i]}, status: lulus\")"
   ]
  },
  {
   "cell_type": "markdown",
   "id": "957b5c3b",
   "metadata": {},
   "source": [
    "# Soal 4\n",
    "⁠buat inputan nama, nilai UTS, nilai UAS, terus bandingkan nilainya. jika nilai uts <=60 atau nilai uas<=60 atau nilai total(uts+uas)<=125 tampilkan gagal/tidak lulus. selain itu tampilkan lulus\n"
   ]
  },
  {
   "cell_type": "code",
   "execution_count": 9,
   "id": "305cf541",
   "metadata": {},
   "outputs": [
    {
     "name": "stdout",
     "output_type": "stream",
     "text": [
      "nama: imroatus\n",
      "nilai UTS: 80\n",
      "nilai UAS: 60\n",
      "\n",
      "\n",
      "nama\t: imroatus \n",
      "uts\t: 80 \n",
      "uas\t: 60 \n",
      "total\t: 140\n",
      "Maaf anda Gagal\n"
     ]
    }
   ],
   "source": [
    "nama = input('nama: ')\n",
    "uts = int(input('nilai UTS: '))\n",
    "uas = int(input('nilai UAS: '))\n",
    "\n",
    "print(f\"\\n\\nnama\\t: {nama} \\nuts\\t: {uts} \\nuas\\t: {uas} \\ntotal\\t: {uts+uas}\")\n",
    "\n",
    "if uts <= 60 or uas <= 60 or (uts+uas)<=125:\n",
    "    print('Maaf anda Gagal')\n",
    "else :\n",
    "    print('Selamat anda Lulus')\n"
   ]
  },
  {
   "cell_type": "markdown",
   "id": "78c99659",
   "metadata": {},
   "source": [
    "# Soal 5\n",
    "konversi huruf dari kata BaT, masing2 huruf konversi ke biner, oktal, desimal dan heksadesimal"
   ]
  },
  {
   "cell_type": "code",
   "execution_count": 10,
   "id": "e9f79bff",
   "metadata": {},
   "outputs": [
    {
     "name": "stdout",
     "output_type": "stream",
     "text": [
      "masukkan kata: BaT\n",
      "kata\t=  BaT\n",
      "\n",
      "huruf\t=  B\n",
      "desimal\t=  66\n",
      "biner\t=  1000010\n",
      "oktal\t=  102\n",
      "hexa\t=  42\n",
      "\n",
      "huruf\t=  a\n",
      "desimal\t=  97\n",
      "biner\t=  1100001\n",
      "oktal\t=  141\n",
      "hexa\t=  61\n",
      "\n",
      "huruf\t=  T\n",
      "desimal\t=  84\n",
      "biner\t=  1010100\n",
      "oktal\t=  124\n",
      "hexa\t=  54\n"
     ]
    }
   ],
   "source": [
    "kata = input('masukkan kata: ')\n",
    "#kata = 'BaT'\n",
    "#huruf = [str(huruf) for huruf in kata]\n",
    "\n",
    "print('kata\\t= ', kata)\n",
    "#print('huruf= ', huruf)\n",
    "\n",
    "\n",
    "for i in range(len(kata)):\n",
    "    print('\\nhuruf\\t= ', kata[i])\n",
    "    desimal1 = ord(kata[i])\n",
    "    print('desimal\\t= ', desimal1)\n",
    "    \n",
    "    biner = ''\n",
    "    oktal = ''\n",
    "    hexa = ''\n",
    "\n",
    "    #biner\n",
    "    desimal=desimal1\n",
    "    while desimal > 0:\n",
    "        sisa = desimal % 2\n",
    "        biner = str(sisa) + biner\n",
    "        desimal //= 2\n",
    "    print('biner\\t= ', biner)\n",
    "\n",
    "    #oktal\n",
    "    desimal=desimal1\n",
    "    while desimal > 0:\n",
    "        sisa = desimal % 8\n",
    "        oktal = str(sisa) + oktal\n",
    "        desimal //= 8\n",
    "    print('oktal\\t= ', oktal)\n",
    "\n",
    "    #hexa\n",
    "    desimal=desimal1\n",
    "    hex_chars = \"0123456789ABCDEF\"\n",
    "    while desimal > 0:\n",
    "         sisa = desimal % 16\n",
    "         hexa = hex_chars[sisa] + hexa\n",
    "         desimal //= 16\n",
    "    print('hexa\\t= ', hexa)\n",
    "\n"
   ]
  },
  {
   "cell_type": "code",
   "execution_count": null,
   "id": "49c174cc",
   "metadata": {},
   "outputs": [],
   "source": []
  }
 ],
 "metadata": {
  "kernelspec": {
   "display_name": "Python 3 (ipykernel)",
   "language": "python",
   "name": "python3"
  },
  "language_info": {
   "codemirror_mode": {
    "name": "ipython",
    "version": 3
   },
   "file_extension": ".py",
   "mimetype": "text/x-python",
   "name": "python",
   "nbconvert_exporter": "python",
   "pygments_lexer": "ipython3",
   "version": "3.10.9"
  }
 },
 "nbformat": 4,
 "nbformat_minor": 5
}
